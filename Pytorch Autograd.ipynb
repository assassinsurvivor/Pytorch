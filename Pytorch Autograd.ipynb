{
 "cells": [
  {
   "cell_type": "code",
   "execution_count": 1,
   "metadata": {},
   "outputs": [],
   "source": [
    "import torch\n"
   ]
  },
  {
   "cell_type": "code",
   "execution_count": 2,
   "metadata": {},
   "outputs": [],
   "source": [
    "x_data=[1,2,3,4]\n",
    "y_data=[1,4,9,16]\n"
   ]
  },
  {
   "cell_type": "code",
   "execution_count": 3,
   "metadata": {},
   "outputs": [],
   "source": [
    "m=torch.Tensor([1.0])\n",
    "c=torch.Tensor([1.0])\n",
    "m.requires_grad=True\n",
    "c.requires_grad=True\n",
    "\n",
    "\n"
   ]
  },
  {
   "cell_type": "code",
   "execution_count": 4,
   "metadata": {},
   "outputs": [],
   "source": [
    "def forward(x):\n",
    "    return (x*m)+c"
   ]
  },
  {
   "cell_type": "code",
   "execution_count": 5,
   "metadata": {},
   "outputs": [],
   "source": [
    "def loss(x,y):\n",
    "    y_hat=forward(x)\n",
    "    return (y_hat-y) *(y_hat-y)\n",
    "    "
   ]
  },
  {
   "cell_type": "code",
   "execution_count": 6,
   "metadata": {
    "scrolled": false
   },
   "outputs": [
    {
     "name": "stdout",
     "output_type": "stream",
     "text": [
      "tensor([ 28.6133])\n",
      "tensor([ 31.9188])\n",
      "tensor([ 33.2173])\n",
      "tensor([ 34.2330])\n",
      "tensor([ 35.1630])\n",
      "tensor([ 36.0330])\n",
      "tensor([ 36.8488])\n",
      "tensor([ 37.6142])\n",
      "tensor([ 38.3323])\n",
      "tensor([ 39.0059])\n",
      "tensor([ 39.6379])\n",
      "tensor([ 40.2309])\n",
      "tensor([ 40.7871])\n",
      "tensor([ 41.3090])\n",
      "tensor([ 41.7985])\n",
      "tensor([ 42.2579])\n",
      "tensor([ 42.6888])\n",
      "tensor([ 43.0930])\n",
      "tensor([ 43.4723])\n",
      "tensor([ 43.8281])\n",
      "tensor([ 44.1619])\n",
      "tensor([ 44.4751])\n",
      "tensor([ 44.7689])\n",
      "tensor([ 45.0445])\n",
      "tensor([ 45.3031])\n",
      "tensor([ 45.5457])\n",
      "tensor([ 45.7733])\n",
      "tensor([ 45.9868])\n",
      "tensor([ 46.1871])\n",
      "tensor([ 46.3750])\n",
      "tensor([ 46.5514])\n",
      "tensor([ 46.7168])\n",
      "tensor([ 46.8719])\n",
      "tensor([ 47.0175])\n",
      "tensor([ 47.1541])\n",
      "tensor([ 47.2822])\n",
      "tensor([ 47.4025])\n",
      "tensor([ 47.5152])\n",
      "tensor([ 47.6210])\n",
      "tensor([ 47.7203])\n",
      "tensor([ 47.8134])\n",
      "tensor([ 47.9008])\n",
      "tensor([ 47.9827])\n",
      "tensor([ 48.0596])\n",
      "tensor([ 48.1318])\n",
      "tensor([ 48.1994])\n",
      "tensor([ 48.2629])\n",
      "tensor([ 48.3225])\n",
      "tensor([ 48.3784])\n",
      "tensor([ 48.4308])\n",
      "tensor([ 48.4800])\n",
      "tensor([ 48.5261])\n",
      "tensor([ 48.5694])\n",
      "tensor([ 48.6100])\n",
      "tensor([ 48.6481])\n",
      "tensor([ 48.6839])\n",
      "tensor([ 48.7174])\n",
      "tensor([ 48.7489])\n",
      "tensor([ 48.7784])\n",
      "tensor([ 48.8061])\n",
      "tensor([ 48.8321])\n",
      "tensor([ 48.8564])\n",
      "tensor([ 48.8793])\n",
      "tensor([ 48.9008])\n",
      "tensor([ 48.9209])\n",
      "tensor([ 48.9398])\n",
      "tensor([ 48.9575])\n",
      "tensor([ 48.9741])\n",
      "tensor([ 48.9897])\n",
      "tensor([ 49.0043])\n",
      "tensor([ 49.0180])\n",
      "tensor([ 49.0309])\n",
      "tensor([ 49.0430])\n",
      "tensor([ 49.0543])\n",
      "tensor([ 49.0649])\n",
      "tensor([ 49.0749])\n",
      "tensor([ 49.0843])\n",
      "tensor([ 49.0931])\n",
      "tensor([ 49.1013])\n",
      "tensor([ 49.1090])\n",
      "tensor([ 49.1163])\n",
      "tensor([ 49.1231])\n",
      "tensor([ 49.1294])\n",
      "tensor([ 49.1354])\n",
      "tensor([ 49.1410])\n",
      "tensor([ 49.1463])\n",
      "tensor([ 49.1513])\n",
      "tensor([ 49.1559])\n",
      "tensor([ 49.1602])\n",
      "tensor([ 49.1643])\n",
      "tensor([ 49.1681])\n",
      "tensor([ 49.1717])\n",
      "tensor([ 49.1751])\n",
      "tensor([ 49.1783])\n",
      "tensor([ 49.1812])\n",
      "tensor([ 49.1840])\n",
      "tensor([ 49.1866])\n",
      "tensor([ 49.1891])\n",
      "tensor([ 49.1914])\n",
      "tensor([ 49.1935])\n"
     ]
    }
   ],
   "source": [
    "for epoch in range(100):\n",
    "    k=0\n",
    "    for i,j in zip(x_data,y_data):\n",
    "        k+=1\n",
    "        l=loss(i,j)\n",
    "        l.backward()\n",
    "        #print(\"Gradient of m and c after epoch {} and data iteration {} is : {} and {}\".format(epoch,k,m.grad.data,c.grad.data))\n",
    "        m.data=m-0.09*m.grad.data\n",
    "        c.data=c-0.09*c.grad.data\n",
    "        m.grad.data.zero_()\n",
    "        c.grad.data.zero_()\n",
    "    print(m*7+c)\n",
    "    \n",
    "    "
   ]
  },
  {
   "cell_type": "code",
   "execution_count": null,
   "metadata": {},
   "outputs": [],
   "source": []
  },
  {
   "cell_type": "code",
   "execution_count": null,
   "metadata": {},
   "outputs": [],
   "source": []
  }
 ],
 "metadata": {
  "kernelspec": {
   "display_name": "Python 3",
   "language": "python",
   "name": "python3"
  },
  "language_info": {
   "codemirror_mode": {
    "name": "ipython",
    "version": 3
   },
   "file_extension": ".py",
   "mimetype": "text/x-python",
   "name": "python",
   "nbconvert_exporter": "python",
   "pygments_lexer": "ipython3",
   "version": "3.6.4"
  }
 },
 "nbformat": 4,
 "nbformat_minor": 2
}
