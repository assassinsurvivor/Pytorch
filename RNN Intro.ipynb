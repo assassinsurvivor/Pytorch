{
 "cells": [
  {
   "cell_type": "code",
   "execution_count": 1,
   "metadata": {},
   "outputs": [],
   "source": [
    "import os\n",
    "os.chdir(\"c:/users/demongking28/desktop/\")"
   ]
  },
  {
   "cell_type": "code",
   "execution_count": 13,
   "metadata": {},
   "outputs": [],
   "source": [
    "import numpy as np\n"
   ]
  },
  {
   "cell_type": "code",
   "execution_count": 4,
   "metadata": {},
   "outputs": [],
   "source": [
    "data=open(\"kafka.txt\",\"r\").read()"
   ]
  },
  {
   "cell_type": "code",
   "execution_count": 5,
   "metadata": {},
   "outputs": [],
   "source": [
    "chars=list(set(data))"
   ]
  },
  {
   "cell_type": "code",
   "execution_count": 7,
   "metadata": {},
   "outputs": [
    {
     "name": "stdout",
     "output_type": "stream",
     "text": [
      "298819\n"
     ]
    }
   ],
   "source": [
    "length_data=len(data)\n",
    "print(length_data)"
   ]
  },
  {
   "cell_type": "code",
   "execution_count": 8,
   "metadata": {},
   "outputs": [
    {
     "name": "stdout",
     "output_type": "stream",
     "text": [
      "98\n"
     ]
    }
   ],
   "source": [
    "vocab_size=len(chars)\n",
    "print(vocab_size)"
   ]
  },
  {
   "cell_type": "code",
   "execution_count": 9,
   "metadata": {},
   "outputs": [],
   "source": [
    "character_to_integer={ch:i for i,ch in enumerate(chars)}"
   ]
  },
  {
   "cell_type": "code",
   "execution_count": 10,
   "metadata": {},
   "outputs": [
    {
     "name": "stdout",
     "output_type": "stream",
     "text": [
      "{'E': 0, 'R': 1, 'K': 2, 'p': 3, '/': 4, '!': 5, 'j': 6, 'v': 7, '2': 8, '5': 9, 'z': 10, '4': 11, 'B': 12, '7': 13, 'r': 14, '$': 15, '%': 16, '€': 17, '#': 18, 'M': 19, 'â': 20, ':': 21, ' ': 22, 'k': 23, 'U': 24, 'L': 25, 'q': 26, '.': 27, '(': 28, 'D': 29, 'W': 30, 'Ã': 31, '&': 32, 'b': 33, 'V': 34, '¦': 35, 'N': 36, ';': 37, '=': 38, '*': 39, 'H': 40, 'µ': 41, 'f': 42, 'O': 43, 'y': 44, 'Â': 45, '0': 46, 'i': 47, '+': 48, 'I': 49, 'h': 50, '>': 51, '8': 52, 'l': 53, 'A': 54, '™': 55, '\\n': 56, \"'\": 57, 'J': 58, '1': 59, '†': 60, 'w': 61, 'd': 62, 'e': 63, 'T': 64, 'S': 65, '<': 66, 'Y': 67, '\"': 68, 'x': 69, 'G': 70, '?': 71, ',': 72, '`': 73, '3': 74, 'a': 75, 'c': 76, '-': 77, '·': 78, 'C': 79, 'u': 80, 'm': 81, ')': 82, '@': 83, 'Z': 84, '9': 85, 'X': 86, '_': 87, 'Q': 88, 'o': 89, 'g': 90, 'P': 91, 't': 92, 'F': 93, '§': 94, 'n': 95, '6': 96, 's': 97}\n"
     ]
    }
   ],
   "source": [
    "print(character_to_integer)"
   ]
  },
  {
   "cell_type": "code",
   "execution_count": 11,
   "metadata": {},
   "outputs": [],
   "source": [
    "integer_to_character={i:ch for i,ch in enumerate(chars)}"
   ]
  },
  {
   "cell_type": "code",
   "execution_count": 12,
   "metadata": {},
   "outputs": [
    {
     "name": "stdout",
     "output_type": "stream",
     "text": [
      "{0: 'E', 1: 'R', 2: 'K', 3: 'p', 4: '/', 5: '!', 6: 'j', 7: 'v', 8: '2', 9: '5', 10: 'z', 11: '4', 12: 'B', 13: '7', 14: 'r', 15: '$', 16: '%', 17: '€', 18: '#', 19: 'M', 20: 'â', 21: ':', 22: ' ', 23: 'k', 24: 'U', 25: 'L', 26: 'q', 27: '.', 28: '(', 29: 'D', 30: 'W', 31: 'Ã', 32: '&', 33: 'b', 34: 'V', 35: '¦', 36: 'N', 37: ';', 38: '=', 39: '*', 40: 'H', 41: 'µ', 42: 'f', 43: 'O', 44: 'y', 45: 'Â', 46: '0', 47: 'i', 48: '+', 49: 'I', 50: 'h', 51: '>', 52: '8', 53: 'l', 54: 'A', 55: '™', 56: '\\n', 57: \"'\", 58: 'J', 59: '1', 60: '†', 61: 'w', 62: 'd', 63: 'e', 64: 'T', 65: 'S', 66: '<', 67: 'Y', 68: '\"', 69: 'x', 70: 'G', 71: '?', 72: ',', 73: '`', 74: '3', 75: 'a', 76: 'c', 77: '-', 78: '·', 79: 'C', 80: 'u', 81: 'm', 82: ')', 83: '@', 84: 'Z', 85: '9', 86: 'X', 87: '_', 88: 'Q', 89: 'o', 90: 'g', 91: 'P', 92: 't', 93: 'F', 94: '§', 95: 'n', 96: '6', 97: 's'}\n"
     ]
    }
   ],
   "source": [
    "print(integer_to_character)"
   ]
  },
  {
   "cell_type": "code",
   "execution_count": 20,
   "metadata": {},
   "outputs": [
    {
     "name": "stdout",
     "output_type": "stream",
     "text": [
      "[[0.]\n",
      " [0.]\n",
      " [0.]\n",
      " [0.]\n",
      " [0.]\n",
      " [0.]\n",
      " [0.]\n",
      " [0.]\n",
      " [0.]\n",
      " [0.]\n",
      " [0.]\n",
      " [0.]\n",
      " [0.]\n",
      " [0.]\n",
      " [0.]\n",
      " [0.]\n",
      " [0.]\n",
      " [0.]\n",
      " [0.]\n",
      " [0.]\n",
      " [0.]\n",
      " [0.]\n",
      " [0.]\n",
      " [0.]\n",
      " [0.]\n",
      " [0.]\n",
      " [0.]\n",
      " [0.]\n",
      " [0.]\n",
      " [0.]\n",
      " [0.]\n",
      " [0.]\n",
      " [0.]\n",
      " [0.]\n",
      " [0.]\n",
      " [0.]\n",
      " [0.]\n",
      " [0.]\n",
      " [0.]\n",
      " [0.]\n",
      " [0.]\n",
      " [0.]\n",
      " [0.]\n",
      " [0.]\n",
      " [0.]\n",
      " [0.]\n",
      " [0.]\n",
      " [0.]\n",
      " [0.]\n",
      " [0.]\n",
      " [0.]\n",
      " [0.]\n",
      " [0.]\n",
      " [0.]\n",
      " [0.]\n",
      " [0.]\n",
      " [0.]\n",
      " [0.]\n",
      " [0.]\n",
      " [0.]\n",
      " [0.]\n",
      " [0.]\n",
      " [0.]\n",
      " [0.]\n",
      " [0.]\n",
      " [0.]\n",
      " [0.]\n",
      " [0.]\n",
      " [0.]\n",
      " [0.]\n",
      " [0.]\n",
      " [0.]\n",
      " [0.]\n",
      " [0.]\n",
      " [0.]\n",
      " [0.]\n",
      " [0.]\n",
      " [0.]\n",
      " [0.]\n",
      " [0.]\n",
      " [0.]\n",
      " [0.]\n",
      " [0.]\n",
      " [0.]\n",
      " [0.]\n",
      " [0.]\n",
      " [0.]\n",
      " [0.]\n",
      " [0.]\n",
      " [0.]\n",
      " [0.]\n",
      " [0.]\n",
      " [0.]\n",
      " [0.]\n",
      " [0.]\n",
      " [0.]\n",
      " [0.]\n",
      " [0.]]\n"
     ]
    }
   ],
   "source": [
    "vec_for_char_a=np.zeros((vocab_size,1))\n",
    "print(vec_for_char_a)"
   ]
  },
  {
   "cell_type": "code",
   "execution_count": 21,
   "metadata": {},
   "outputs": [],
   "source": [
    "vec_for_char_a[character_to_integer['a']]=1"
   ]
  },
  {
   "cell_type": "code",
   "execution_count": 22,
   "metadata": {},
   "outputs": [
    {
     "name": "stdout",
     "output_type": "stream",
     "text": [
      "[0. 0. 0. 0. 0. 0. 0. 0. 0. 0. 0. 0. 0. 0. 0. 0. 0. 0. 0. 0. 0. 0. 0. 0.\n",
      " 0. 0. 0. 0. 0. 0. 0. 0. 0. 0. 0. 0. 0. 0. 0. 0. 0. 0. 0. 0. 0. 0. 0. 0.\n",
      " 0. 0. 0. 0. 0. 0. 0. 0. 0. 0. 0. 0. 0. 0. 0. 0. 0. 0. 0. 0. 0. 0. 0. 0.\n",
      " 0. 0. 0. 1. 0. 0. 0. 0. 0. 0. 0. 0. 0. 0. 0. 0. 0. 0. 0. 0. 0. 0. 0. 0.\n",
      " 0. 0.]\n"
     ]
    }
   ],
   "source": [
    "print(vec_for_char_a.ravel())"
   ]
  },
  {
   "cell_type": "code",
   "execution_count": 25,
   "metadata": {},
   "outputs": [
    {
     "data": {
      "text/plain": [
       "0.001"
      ]
     },
     "execution_count": 25,
     "metadata": {},
     "output_type": "execute_result"
    }
   ],
   "source": [
    "1e-3"
   ]
  },
  {
   "cell_type": "code",
   "execution_count": 27,
   "metadata": {},
   "outputs": [],
   "source": [
    "hidden_size = 100 #neurons in the hidden  layer\n",
    "seq_length = 25 #no of characters to be generated at every time step\n",
    "learning_rate = 1e-1 #0.1"
   ]
  },
  {
   "cell_type": "code",
   "execution_count": 30,
   "metadata": {},
   "outputs": [],
   "source": [
    "Wxh = np.random.randn(hidden_size, vocab_size) * 0.01 #input to hidden\n",
    "Whh = np.random.randn(hidden_size, hidden_size) * 0.01 #input to hidden\n",
    "Why = np.random.randn(vocab_size, hidden_size) * 0.01 #input to hidden"
   ]
  },
  {
   "cell_type": "code",
   "execution_count": 29,
   "metadata": {},
   "outputs": [
    {
     "data": {
      "text/plain": [
       "array([-0.48722389, -0.29033049])"
      ]
     },
     "execution_count": 29,
     "metadata": {},
     "output_type": "execute_result"
    }
   ],
   "source": []
  },
  {
   "cell_type": "code",
   "execution_count": null,
   "metadata": {},
   "outputs": [],
   "source": []
  }
 ],
 "metadata": {
  "kernelspec": {
   "display_name": "Python 3",
   "language": "python",
   "name": "python3"
  },
  "language_info": {
   "codemirror_mode": {
    "name": "ipython",
    "version": 3
   },
   "file_extension": ".py",
   "mimetype": "text/x-python",
   "name": "python",
   "nbconvert_exporter": "python",
   "pygments_lexer": "ipython3",
   "version": "3.6.4"
  }
 },
 "nbformat": 4,
 "nbformat_minor": 2
}
