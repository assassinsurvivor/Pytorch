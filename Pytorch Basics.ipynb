{
 "cells": [
  {
   "cell_type": "code",
   "execution_count": 1,
   "metadata": {},
   "outputs": [],
   "source": [
    "import torch\n",
    "import glob\n",
    "import numpy as np\n",
    "import matplotlib.pyplot as plt\n",
    "from torch.autograd import Variable\n",
    "\n"
   ]
  },
  {
   "cell_type": "code",
   "execution_count": 2,
   "metadata": {},
   "outputs": [
    {
     "data": {
      "text/plain": [
       "(506, 13)"
      ]
     },
     "execution_count": 2,
     "metadata": {},
     "output_type": "execute_result"
    }
   ],
   "source": [
    "#Loading boston dataset from scikitlearn\n",
    "\n",
    "from sklearn.datasets import load_boston\n",
    "boston=load_boston()\n",
    "boston.data.shape"
   ]
  },
  {
   "cell_type": "code",
   "execution_count": null,
   "metadata": {},
   "outputs": [],
   "source": [
    "#Tensor scalar\n",
    "torch.tensor(10)"
   ]
  },
  {
   "cell_type": "code",
   "execution_count": null,
   "metadata": {},
   "outputs": [],
   "source": [
    "#There are two types of tensors in pytorch FloatTesnor and LongTensor\n",
    "cache=torch.FloatTensor([24.85,54.80])\n",
    "print(cache.size())\n",
    "cache=torch.LongTensor([24.85,54.80])\n",
    "print(cache.size())"
   ]
  },
  {
   "cell_type": "code",
   "execution_count": null,
   "metadata": {},
   "outputs": [],
   "source": [
    "#random initialization of 1-d tensor\n",
    "torch.rand(10) "
   ]
  },
  {
   "cell_type": "code",
   "execution_count": null,
   "metadata": {},
   "outputs": [],
   "source": [
    "#2-d tensor\n",
    "x=torch.rand(2,3)\n",
    "\n",
    "#3-d tensor\n",
    "torch.rand(2,3,3) "
   ]
  },
  {
   "cell_type": "code",
   "execution_count": null,
   "metadata": {},
   "outputs": [],
   "source": [
    "#size of tensors\n",
    "x.size()\n",
    "\n",
    "# x.shape() This won't work .Sorry Numpy!!!!!!!!!!!!!!!!!!!!!!!!!!!!!!!!!!!!!!!!!!!!!\n",
    "\n",
    "print(type(boston.data))\n",
    "\n",
    "\n",
    "\n"
   ]
  },
  {
   "cell_type": "code",
   "execution_count": null,
   "metadata": {},
   "outputs": [],
   "source": [
    "# from_numpy() numpy object ko tensor main convert kardega.\n",
    "boston_dataset=torch.from_numpy(boston.data)\n",
    "print(type(boston_dataset))\n",
    "print(boston_dataset.size())\n"
   ]
  },
  {
   "cell_type": "code",
   "execution_count": null,
   "metadata": {},
   "outputs": [],
   "source": [
    "#slicing same as python \n",
    "boston_dataset[:3].size()\n"
   ]
  },
  {
   "cell_type": "code",
   "execution_count": null,
   "metadata": {},
   "outputs": [],
   "source": [
    "import os\n",
    "os.getcwd()"
   ]
  },
  {
   "cell_type": "code",
   "execution_count": null,
   "metadata": {},
   "outputs": [],
   "source": [
    "os.chdir(\"c:/users/demongking28/desktop/\")\n"
   ]
  },
  {
   "cell_type": "code",
   "execution_count": null,
   "metadata": {},
   "outputs": [],
   "source": [
    "from PIL import Image\n",
    "img=np.array(Image.open(\"1.jpg.jpeg\"))\n",
    "plt.imshow(img)"
   ]
  },
  {
   "cell_type": "code",
   "execution_count": null,
   "metadata": {},
   "outputs": [],
   "source": [
    "#converting from numpy array to tensors\n",
    "img_tensor=torch.from_numpy(img)\n",
    "img_tensor.size() #height,width,channels same as numpy"
   ]
  },
  {
   "cell_type": "code",
   "execution_count": null,
   "metadata": {},
   "outputs": [],
   "source": [
    "#does plt works with tensors? Lets see...................\n",
    "\n",
    "plt.imshow(img_tensor)\n",
    "\n",
    "#it works!!!!!!!!!!!!!!!!!!!!!!!!! after all tensors are just numpy with gpuuuuuuuuuuuuuuuu!!!!!!!!!!!!!"
   ]
  },
  {
   "cell_type": "code",
   "execution_count": null,
   "metadata": {},
   "outputs": [],
   "source": [
    "#accessing r,g,b from rgb\n",
    "\n",
    "for i in [0,1,2]:\n",
    "    plt.figure()\n",
    "    plt.imshow(img_tensor[:,:,i]) \n"
   ]
  },
  {
   "cell_type": "code",
   "execution_count": null,
   "metadata": {},
   "outputs": [],
   "source": [
    "# to convert mack to numpy\n",
    "\n",
    "img_numpy=img_tensor[:,:,:].numpy()\n",
    "type(img_numpy)"
   ]
  },
  {
   "cell_type": "code",
   "execution_count": null,
   "metadata": {},
   "outputs": [],
   "source": [
    "plt.imshow(img_numpy)"
   ]
  },
  {
   "cell_type": "code",
   "execution_count": null,
   "metadata": {},
   "outputs": [],
   "source": [
    "#torch.eye(shape) produces an diagonal matrix with 1 as its diagonal\n",
    "print(torch.eye(3,3))\n",
    "\n",
    "print(torch.eye(3,3)[0,1])"
   ]
  },
  {
   "cell_type": "code",
   "execution_count": null,
   "metadata": {},
   "outputs": [],
   "source": [
    "# 4-d tensors means batch of images  -16,32,64 are the most commonly used batch sizes\n",
    "\n",
    "#Example to load into batches using only numpy\n",
    "\n",
    "images=glob.glob(\"images/*\")\n",
    "\n",
    "batch_images=np.array([np.array(Image.open(i).resize((224,224))) for i in images[:5]])\n",
    "\n",
    "b_img=batch_images.reshape(-1,224,224,3) # -1 tells to numpy ki bhai tu dekhle ki kitne batches hai\n",
    "\n",
    "batch_tensor=torch.from_numpy(b_img)\n",
    "\n",
    "batch_tensor.size()\n",
    "\n",
    "\n"
   ]
  },
  {
   "cell_type": "code",
   "execution_count": null,
   "metadata": {},
   "outputs": [],
   "source": [
    "# 5-d tensors are used in video data.videos can be split into frames.a 20 second video may contain 20 frames which \n",
    "# can be represented by (1,20,224,224,3) .A batch of videos can be represented by (15,20,224,224,3) where 15 are\n",
    "# the total video clips\n",
    "\n",
    "# Addition of tensors\n",
    "\n",
    "\n",
    "a=torch.rand(3,3)\n",
    "b=torch.rand(3,3)\n",
    "\n",
    "print(a)\n",
    "print(b)\n",
    "\n"
   ]
  },
  {
   "cell_type": "code",
   "execution_count": null,
   "metadata": {},
   "outputs": [],
   "source": [
    "c=torch.add(a,b)\n",
    "print(c)"
   ]
  },
  {
   "cell_type": "code",
   "execution_count": null,
   "metadata": {},
   "outputs": [],
   "source": [
    "# for in place addition\n",
    "\n",
    "c.add(5) # or could have been c.add_(5)"
   ]
  },
  {
   "cell_type": "code",
   "execution_count": null,
   "metadata": {},
   "outputs": [],
   "source": [
    "#Multiplication of different tensors\n",
    "print(a)\n",
    "print(b)\n",
    "\n",
    "print(a*b) #only does element wise multiplication\n",
    "print(torch.matmul(a,b)) #does matrix wise multiplication\n",
    "print(a.mul_(b)) #does inplace multiplication\n",
    "print(a) #results of a.mul_b stored in a itself"
   ]
  },
  {
   "cell_type": "code",
   "execution_count": null,
   "metadata": {},
   "outputs": [],
   "source": [
    "#a.cuda() #to convert it into gpu instance\n",
    "#b.cuda() #to convert it into gpu instance"
   ]
  },
  {
   "cell_type": "code",
   "execution_count": 2,
   "metadata": {
    "scrolled": true
   },
   "outputs": [],
   "source": [
    "#variables\n",
    "\n",
    "x=Variable(torch.ones(3,3),requires_grad=True)\n"
   ]
  },
  {
   "cell_type": "code",
   "execution_count": 5,
   "metadata": {},
   "outputs": [],
   "source": [
    "y=x.mean()\n",
    "y.backward() #backward propagation"
   ]
  },
  {
   "cell_type": "code",
   "execution_count": 14,
   "metadata": {},
   "outputs": [
    {
     "name": "stdout",
     "output_type": "stream",
     "text": [
      "<MeanBackward1 object at 0x0000022A832EF278>\n",
      "None\n",
      "tensor([[ 0.2222,  0.2222,  0.2222],\n",
      "        [ 0.2222,  0.2222,  0.2222],\n",
      "        [ 0.2222,  0.2222,  0.2222]])\n",
      "tensor([[ 1.,  1.,  1.],\n",
      "        [ 1.,  1.,  1.],\n",
      "        [ 1.,  1.,  1.]])\n"
     ]
    }
   ],
   "source": [
    "t=x.grad # storing gradients of x\n",
    "print(y.grad_fn) #function from where the variable was created if any\n",
    "print(x.grad_fn)\n",
    "print(t)\n"
   ]
  },
  {
   "cell_type": "code",
   "execution_count": null,
   "metadata": {},
   "outputs": [],
   "source": []
  },
  {
   "cell_type": "code",
   "execution_count": null,
   "metadata": {},
   "outputs": [],
   "source": []
  }
 ],
 "metadata": {
  "kernelspec": {
   "display_name": "Python 3",
   "language": "python",
   "name": "python3"
  },
  "language_info": {
   "codemirror_mode": {
    "name": "ipython",
    "version": 3
   },
   "file_extension": ".py",
   "mimetype": "text/x-python",
   "name": "python",
   "nbconvert_exporter": "python",
   "pygments_lexer": "ipython3",
   "version": "3.6.4"
  }
 },
 "nbformat": 4,
 "nbformat_minor": 2
}
